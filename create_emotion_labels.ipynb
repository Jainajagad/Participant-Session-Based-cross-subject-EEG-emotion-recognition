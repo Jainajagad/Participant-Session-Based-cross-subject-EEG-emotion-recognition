{
 "cells": [
  {
   "cell_type": "code",
   "execution_count": 1,
   "id": "260500ff",
   "metadata": {},
   "outputs": [],
   "source": [
    "import numpy as np"
   ]
  },
  {
   "cell_type": "code",
   "execution_count": 5,
   "id": "843fe9ff",
   "metadata": {},
   "outputs": [],
   "source": [
    "inner_label=[2, 1, 0, 0, 1, 2, 0, 1, 2, 2, 1, 0, 1, 2, 0]\n",
    "outer_label=[]\n",
    "for i in range(45):\n",
    "    for x in inner_label:\n",
    "        outer_label.append(x)\n"
   ]
  },
  {
   "cell_type": "code",
   "execution_count": 4,
   "id": "10aeacc1",
   "metadata": {},
   "outputs": [],
   "source": [
    "np.save('./data/emotion_labels.npy', outer_label)"
   ]
  }
 ],
 "metadata": {
  "kernelspec": {
   "display_name": "Python 3",
   "language": "python",
   "name": "python3"
  },
  "language_info": {
   "codemirror_mode": {
    "name": "ipython",
    "version": 3
   },
   "file_extension": ".py",
   "mimetype": "text/x-python",
   "name": "python",
   "nbconvert_exporter": "python",
   "pygments_lexer": "ipython3",
   "version": "3.9.1"
  }
 },
 "nbformat": 4,
 "nbformat_minor": 5
}
